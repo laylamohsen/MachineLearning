{
 "cells": [
  {
   "cell_type": "code",
   "execution_count": 19,
   "id": "03669064-38a6-48f7-9598-de3b50ffcf11",
   "metadata": {},
   "outputs": [
    {
     "data": {
      "text/plain": [
       "([1, 2, 3], [4, 5, 6])"
      ]
     },
     "execution_count": 19,
     "metadata": {},
     "output_type": "execute_result"
    }
   ],
   "source": [
    "my_list = ([1,2,3], [4,5,6])\n",
    "my_list \n"
   ]
  },
  {
   "cell_type": "markdown",
   "id": "89607061-0074-4d4a-88de-619a8c531b6c",
   "metadata": {},
   "source": [
    "#\n",
    "# _____________________________________________________________________________________________\n",
    "#\n",
    "# Numpy\n",
    "Core data structure: Numpy/Nd array"
   ]
  },
  {
   "cell_type": "code",
   "execution_count": 136,
   "id": "7fe3a380-adaa-4ed0-a067-8fa3681c0dd5",
   "metadata": {},
   "outputs": [],
   "source": [
    "import numpy as np"
   ]
  },
  {
   "cell_type": "code",
   "execution_count": 20,
   "id": "5b8312c1-8790-4d1e-95f7-d614468f7820",
   "metadata": {},
   "outputs": [
    {
     "data": {
      "text/plain": [
       "array([[1, 2, 3],\n",
       "       [4, 5, 6]])"
      ]
     },
     "execution_count": 20,
     "metadata": {},
     "output_type": "execute_result"
    }
   ],
   "source": [
    "my_list = np.array(my_list)\n",
    "my_list"
   ]
  },
  {
   "cell_type": "code",
   "execution_count": 44,
   "id": "c37b6c4e-a218-40da-ba4d-ada01361fc87",
   "metadata": {},
   "outputs": [
    {
     "name": "stdout",
     "output_type": "stream",
     "text": [
      "0\n",
      "2\n",
      "4\n",
      "6\n",
      "8\n",
      "10\n"
     ]
    }
   ],
   "source": [
    "num = range(0,11,2)\n",
    "for i in num:\n",
    "    print(i) \n"
   ]
  },
  {
   "cell_type": "code",
   "execution_count": 24,
   "id": "918087be-ec3b-4b57-906d-64a3a322fa6b",
   "metadata": {},
   "outputs": [
    {
     "data": {
      "text/plain": [
       "array([ 0,  2,  4,  6,  8, 10])"
      ]
     },
     "execution_count": 24,
     "metadata": {},
     "output_type": "execute_result"
    }
   ],
   "source": [
    "#start at 0, end at 11, take 2 steps\n",
    "np.arange(0,11,2)"
   ]
  },
  {
   "cell_type": "code",
   "execution_count": 62,
   "id": "741c9bed-b4a4-40c6-96e0-d5be4e3f06af",
   "metadata": {},
   "outputs": [
    {
     "data": {
      "text/plain": [
       "array([[1., 0., 0., 0.],\n",
       "       [0., 1., 0., 0.],\n",
       "       [0., 0., 1., 0.],\n",
       "       [0., 0., 0., 1.]])"
      ]
     },
     "execution_count": 62,
     "metadata": {},
     "output_type": "execute_result"
    }
   ],
   "source": [
    "np.zeros((5,3))\n",
    "np.ones([5,3,2])\n",
    "np.eye(4)"
   ]
  },
  {
   "cell_type": "code",
   "execution_count": 84,
   "id": "f20626c4-4a81-4199-ae21-5a257ba8995e",
   "metadata": {},
   "outputs": [
    {
     "data": {
      "text/plain": [
       "array([[1, 3],\n",
       "       [2, 3],\n",
       "       [2, 1],\n",
       "       [2, 2],\n",
       "       [1, 2]])"
      ]
     },
     "execution_count": 84,
     "metadata": {},
     "output_type": "execute_result"
    }
   ],
   "source": [
    "np.random.rand(5,5) #float between 0 and 1\n",
    "np.random.randn(5,5) #float in normal distribution -1,1\n",
    "np.random.randint(0,4,(5,2)) #from 0, to 4 (not inclusive of 4), then give dimensions"
   ]
  },
  {
   "cell_type": "markdown",
   "id": "934456aa-a32a-481d-a3c0-39f814d7d430",
   "metadata": {},
   "source": [
    "# Reshaping"
   ]
  },
  {
   "cell_type": "code",
   "execution_count": 87,
   "id": "a633d987-cf69-4fc0-9984-b90d45376165",
   "metadata": {},
   "outputs": [
    {
     "data": {
      "text/plain": [
       "array([ 0,  1,  2,  3,  4,  5,  6,  7,  8,  9, 10, 11, 12, 13, 14, 15, 16,\n",
       "       17, 18, 19, 20, 21, 22, 23, 24])"
      ]
     },
     "execution_count": 87,
     "metadata": {},
     "output_type": "execute_result"
    }
   ],
   "source": [
    "arr = np.arange(25)\n",
    "arr"
   ]
  },
  {
   "cell_type": "code",
   "execution_count": 91,
   "id": "2482d031-3bd0-48c9-8495-c5f29cba782f",
   "metadata": {},
   "outputs": [
    {
     "data": {
      "text/plain": [
       "array([[ 0,  1,  2,  3,  4],\n",
       "       [ 5,  6,  7,  8,  9],\n",
       "       [10, 11, 12, 13, 14],\n",
       "       [15, 16, 17, 18, 19],\n",
       "       [20, 21, 22, 23, 24]])"
      ]
     },
     "execution_count": 91,
     "metadata": {},
     "output_type": "execute_result"
    }
   ],
   "source": [
    "arr.reshape(5,5) #doesnt change actual arr"
   ]
  },
  {
   "cell_type": "code",
   "execution_count": 96,
   "id": "50bb9e61-86a2-4704-b95f-b982ddc73d0e",
   "metadata": {},
   "outputs": [
    {
     "data": {
      "text/plain": [
       "array([[ 0,  1,  2,  3,  4],\n",
       "       [ 5,  6,  7,  8,  9],\n",
       "       [10, 11, 12, 13, 14],\n",
       "       [15, 16, 17, 18, 19],\n",
       "       [20, 21, 22, 23, 24]])"
      ]
     },
     "execution_count": 96,
     "metadata": {},
     "output_type": "execute_result"
    }
   ],
   "source": [
    "arr.resize(5,5) #changes actual arr\n",
    "arr"
   ]
  },
  {
   "cell_type": "markdown",
   "id": "9fee398b-da4b-4c0b-810c-0adc6dc6887c",
   "metadata": {},
   "source": [
    "# Indexing and Slicing"
   ]
  },
  {
   "cell_type": "code",
   "execution_count": 99,
   "id": "4dde793c-0da4-4b23-9b04-6123ec27a2b6",
   "metadata": {},
   "outputs": [
    {
     "data": {
      "text/plain": [
       "array([[1, 2, 3, 4],\n",
       "       [5, 6, 7, 8]])"
      ]
     },
     "execution_count": 99,
     "metadata": {},
     "output_type": "execute_result"
    }
   ],
   "source": [
    "arr = np.array(([1,2,3,4], [5,6,7,8]))\n",
    "arr"
   ]
  },
  {
   "cell_type": "code",
   "execution_count": 108,
   "id": "213a47a1-cae0-4379-af68-d5d83d3a5c9c",
   "metadata": {},
   "outputs": [
    {
     "data": {
      "text/plain": [
       "array([[1, 2, 3]])"
      ]
     },
     "execution_count": 108,
     "metadata": {},
     "output_type": "execute_result"
    }
   ],
   "source": [
    "arr[:1,:3] #: means all rows/columns"
   ]
  },
  {
   "cell_type": "code",
   "execution_count": 117,
   "id": "0b00fbd8-51bb-4a90-bb3c-a38bdd13bf5e",
   "metadata": {},
   "outputs": [
    {
     "data": {
      "text/plain": [
       "array([1, 2, 3, 4, 5, 6, 7])"
      ]
     },
     "execution_count": 117,
     "metadata": {},
     "output_type": "execute_result"
    }
   ],
   "source": [
    "cond_array = arr > 5 #returns all elements greater than 5\n",
    "cond_array\n",
    "arr[cond_array]\n",
    "#or\n",
    "arr[arr - 3!=5] #broadcasts 3, minuses 3 from every element n compares it so the 3 actually becomes a 1x10 array of 3's"
   ]
  },
  {
   "cell_type": "code",
   "execution_count": 132,
   "id": "e4886ad7-f41e-487e-82dc-2cf6fb7e1f25",
   "metadata": {},
   "outputs": [
    {
     "data": {
      "text/plain": [
       "array([4])"
      ]
     },
     "execution_count": 132,
     "metadata": {},
     "output_type": "execute_result"
    }
   ],
   "source": [
    "arr[arr*([0,0,0,2],[0,0,0,0])!=0]"
   ]
  },
  {
   "cell_type": "markdown",
   "id": "1d0fa0be-756f-4b64-a62a-91d14c24398b",
   "metadata": {},
   "source": [
    "# \n",
    "# ______________________________________________________________\n",
    "# \n",
    "\n",
    "# Pandas\n",
    "Core datastructure: Series & DataFrames"
   ]
  },
  {
   "cell_type": "code",
   "execution_count": null,
   "id": "f0989841-d3d5-4e98-a9d9-e1ebb066c0e5",
   "metadata": {},
   "outputs": [],
   "source": [
    "pip install pandas"
   ]
  },
  {
   "cell_type": "code",
   "execution_count": 139,
   "id": "01a69bd7-4d49-4621-8958-5c8ce921472c",
   "metadata": {},
   "outputs": [],
   "source": [
    "import pandas as pd"
   ]
  },
  {
   "cell_type": "code",
   "execution_count": 143,
   "id": "0793da91-ff0f-4d70-96d4-ae7126de45a7",
   "metadata": {},
   "outputs": [
    {
     "data": {
      "text/html": [
       "<div>\n",
       "<style scoped>\n",
       "    .dataframe tbody tr th:only-of-type {\n",
       "        vertical-align: middle;\n",
       "    }\n",
       "\n",
       "    .dataframe tbody tr th {\n",
       "        vertical-align: top;\n",
       "    }\n",
       "\n",
       "    .dataframe thead th {\n",
       "        text-align: right;\n",
       "    }\n",
       "</style>\n",
       "<table border=\"1\" class=\"dataframe\">\n",
       "  <thead>\n",
       "    <tr style=\"text-align: right;\">\n",
       "      <th></th>\n",
       "      <th>0</th>\n",
       "      <th>1</th>\n",
       "      <th>2</th>\n",
       "      <th>3</th>\n",
       "    </tr>\n",
       "  </thead>\n",
       "  <tbody>\n",
       "    <tr>\n",
       "      <th>0</th>\n",
       "      <td>2.826144</td>\n",
       "      <td>0.587366</td>\n",
       "      <td>-0.240317</td>\n",
       "      <td>-0.455525</td>\n",
       "    </tr>\n",
       "    <tr>\n",
       "      <th>1</th>\n",
       "      <td>2.208026</td>\n",
       "      <td>1.777129</td>\n",
       "      <td>-0.155855</td>\n",
       "      <td>0.848356</td>\n",
       "    </tr>\n",
       "    <tr>\n",
       "      <th>2</th>\n",
       "      <td>-0.230311</td>\n",
       "      <td>-0.475375</td>\n",
       "      <td>1.927108</td>\n",
       "      <td>-2.096793</td>\n",
       "    </tr>\n",
       "    <tr>\n",
       "      <th>3</th>\n",
       "      <td>-0.242116</td>\n",
       "      <td>-0.720303</td>\n",
       "      <td>1.109457</td>\n",
       "      <td>-1.165486</td>\n",
       "    </tr>\n",
       "    <tr>\n",
       "      <th>4</th>\n",
       "      <td>-0.247853</td>\n",
       "      <td>-1.627393</td>\n",
       "      <td>-0.082096</td>\n",
       "      <td>0.476884</td>\n",
       "    </tr>\n",
       "  </tbody>\n",
       "</table>\n",
       "</div>"
      ],
      "text/plain": [
       "          0         1         2         3\n",
       "0  2.826144  0.587366 -0.240317 -0.455525\n",
       "1  2.208026  1.777129 -0.155855  0.848356\n",
       "2 -0.230311 -0.475375  1.927108 -2.096793\n",
       "3 -0.242116 -0.720303  1.109457 -1.165486\n",
       "4 -0.247853 -1.627393 -0.082096  0.476884"
      ]
     },
     "execution_count": 143,
     "metadata": {},
     "output_type": "execute_result"
    }
   ],
   "source": [
    "df = pd.DataFrame(data = np.random.randn(5,4))\n",
    "df"
   ]
  },
  {
   "cell_type": "code",
   "execution_count": 166,
   "id": "95ca30e7-f7cf-44c9-8888-575f26f748a1",
   "metadata": {},
   "outputs": [
    {
     "data": {
      "text/html": [
       "<div>\n",
       "<style scoped>\n",
       "    .dataframe tbody tr th:only-of-type {\n",
       "        vertical-align: middle;\n",
       "    }\n",
       "\n",
       "    .dataframe tbody tr th {\n",
       "        vertical-align: top;\n",
       "    }\n",
       "\n",
       "    .dataframe thead th {\n",
       "        text-align: right;\n",
       "    }\n",
       "</style>\n",
       "<table border=\"1\" class=\"dataframe\">\n",
       "  <thead>\n",
       "    <tr style=\"text-align: right;\">\n",
       "      <th></th>\n",
       "      <th>column1</th>\n",
       "      <th>column2</th>\n",
       "      <th>column3</th>\n",
       "      <th>column4</th>\n",
       "    </tr>\n",
       "  </thead>\n",
       "  <tbody>\n",
       "    <tr>\n",
       "      <th>A</th>\n",
       "      <td>-0.002188</td>\n",
       "      <td>0.002427</td>\n",
       "      <td>1.050507</td>\n",
       "      <td>-2.058207</td>\n",
       "    </tr>\n",
       "    <tr>\n",
       "      <th>B</th>\n",
       "      <td>-1.346984</td>\n",
       "      <td>2.315161</td>\n",
       "      <td>-2.048583</td>\n",
       "      <td>-0.245145</td>\n",
       "    </tr>\n",
       "    <tr>\n",
       "      <th>C</th>\n",
       "      <td>0.346159</td>\n",
       "      <td>0.157376</td>\n",
       "      <td>-0.191799</td>\n",
       "      <td>-0.011914</td>\n",
       "    </tr>\n",
       "    <tr>\n",
       "      <th>D</th>\n",
       "      <td>-0.895702</td>\n",
       "      <td>-1.208149</td>\n",
       "      <td>0.465323</td>\n",
       "      <td>-1.531595</td>\n",
       "    </tr>\n",
       "    <tr>\n",
       "      <th>E</th>\n",
       "      <td>-0.017013</td>\n",
       "      <td>0.773513</td>\n",
       "      <td>1.312875</td>\n",
       "      <td>-0.322958</td>\n",
       "    </tr>\n",
       "  </tbody>\n",
       "</table>\n",
       "</div>"
      ],
      "text/plain": [
       "    column1   column2   column3   column4\n",
       "A -0.002188  0.002427  1.050507 -2.058207\n",
       "B -1.346984  2.315161 -2.048583 -0.245145\n",
       "C  0.346159  0.157376 -0.191799 -0.011914\n",
       "D -0.895702 -1.208149  0.465323 -1.531595\n",
       "E -0.017013  0.773513  1.312875 -0.322958"
      ]
     },
     "execution_count": 166,
     "metadata": {},
     "output_type": "execute_result"
    }
   ],
   "source": [
    "df = pd.DataFrame(data = np.random.randn(5,4), index = ['A', 'B', 'C','D','E'], columns = ['column1', 'column2', 'column3','column4'] )\n",
    "df"
   ]
  },
  {
   "cell_type": "code",
   "execution_count": 170,
   "id": "211da4ec-608e-4626-9726-78741b5ab67e",
   "metadata": {},
   "outputs": [
    {
     "data": {
      "text/html": [
       "<div>\n",
       "<style scoped>\n",
       "    .dataframe tbody tr th:only-of-type {\n",
       "        vertical-align: middle;\n",
       "    }\n",
       "\n",
       "    .dataframe tbody tr th {\n",
       "        vertical-align: top;\n",
       "    }\n",
       "\n",
       "    .dataframe thead th {\n",
       "        text-align: right;\n",
       "    }\n",
       "</style>\n",
       "<table border=\"1\" class=\"dataframe\">\n",
       "  <thead>\n",
       "    <tr style=\"text-align: right;\">\n",
       "      <th></th>\n",
       "      <th>column1</th>\n",
       "      <th>column2</th>\n",
       "    </tr>\n",
       "  </thead>\n",
       "  <tbody>\n",
       "    <tr>\n",
       "      <th>A</th>\n",
       "      <td>-0.002188</td>\n",
       "      <td>0.002427</td>\n",
       "    </tr>\n",
       "    <tr>\n",
       "      <th>B</th>\n",
       "      <td>-1.346984</td>\n",
       "      <td>2.315161</td>\n",
       "    </tr>\n",
       "    <tr>\n",
       "      <th>C</th>\n",
       "      <td>0.346159</td>\n",
       "      <td>0.157376</td>\n",
       "    </tr>\n",
       "    <tr>\n",
       "      <th>D</th>\n",
       "      <td>-0.895702</td>\n",
       "      <td>-1.208149</td>\n",
       "    </tr>\n",
       "    <tr>\n",
       "      <th>E</th>\n",
       "      <td>-0.017013</td>\n",
       "      <td>0.773513</td>\n",
       "    </tr>\n",
       "  </tbody>\n",
       "</table>\n",
       "</div>"
      ],
      "text/plain": [
       "    column1   column2\n",
       "A -0.002188  0.002427\n",
       "B -1.346984  2.315161\n",
       "C  0.346159  0.157376\n",
       "D -0.895702 -1.208149\n",
       "E -0.017013  0.773513"
      ]
     },
     "execution_count": 170,
     "metadata": {},
     "output_type": "execute_result"
    }
   ],
   "source": [
    "type(df['column1']) #column operation\n",
    "#df.D not recommended\n",
    "df[['column1', 'column2']] #returns columns"
   ]
  },
  {
   "cell_type": "code",
   "execution_count": 173,
   "id": "1d8ecc88-45d8-4e48-b300-b913f3f0eaba",
   "metadata": {},
   "outputs": [
    {
     "data": {
      "text/html": [
       "<div>\n",
       "<style scoped>\n",
       "    .dataframe tbody tr th:only-of-type {\n",
       "        vertical-align: middle;\n",
       "    }\n",
       "\n",
       "    .dataframe tbody tr th {\n",
       "        vertical-align: top;\n",
       "    }\n",
       "\n",
       "    .dataframe thead th {\n",
       "        text-align: right;\n",
       "    }\n",
       "</style>\n",
       "<table border=\"1\" class=\"dataframe\">\n",
       "  <thead>\n",
       "    <tr style=\"text-align: right;\">\n",
       "      <th></th>\n",
       "      <th>column1</th>\n",
       "      <th>column2</th>\n",
       "      <th>column3</th>\n",
       "      <th>column4</th>\n",
       "      <th>column5</th>\n",
       "    </tr>\n",
       "  </thead>\n",
       "  <tbody>\n",
       "    <tr>\n",
       "      <th>A</th>\n",
       "      <td>-0.002188</td>\n",
       "      <td>0.002427</td>\n",
       "      <td>1.050507</td>\n",
       "      <td>-2.058207</td>\n",
       "      <td>1</td>\n",
       "    </tr>\n",
       "    <tr>\n",
       "      <th>B</th>\n",
       "      <td>-1.346984</td>\n",
       "      <td>2.315161</td>\n",
       "      <td>-2.048583</td>\n",
       "      <td>-0.245145</td>\n",
       "      <td>2</td>\n",
       "    </tr>\n",
       "    <tr>\n",
       "      <th>C</th>\n",
       "      <td>0.346159</td>\n",
       "      <td>0.157376</td>\n",
       "      <td>-0.191799</td>\n",
       "      <td>-0.011914</td>\n",
       "      <td>3</td>\n",
       "    </tr>\n",
       "    <tr>\n",
       "      <th>D</th>\n",
       "      <td>-0.895702</td>\n",
       "      <td>-1.208149</td>\n",
       "      <td>0.465323</td>\n",
       "      <td>-1.531595</td>\n",
       "      <td>4</td>\n",
       "    </tr>\n",
       "    <tr>\n",
       "      <th>E</th>\n",
       "      <td>-0.017013</td>\n",
       "      <td>0.773513</td>\n",
       "      <td>1.312875</td>\n",
       "      <td>-0.322958</td>\n",
       "      <td>5</td>\n",
       "    </tr>\n",
       "  </tbody>\n",
       "</table>\n",
       "</div>"
      ],
      "text/plain": [
       "    column1   column2   column3   column4  column5\n",
       "A -0.002188  0.002427  1.050507 -2.058207        1\n",
       "B -1.346984  2.315161 -2.048583 -0.245145        2\n",
       "C  0.346159  0.157376 -0.191799 -0.011914        3\n",
       "D -0.895702 -1.208149  0.465323 -1.531595        4\n",
       "E -0.017013  0.773513  1.312875 -0.322958        5"
      ]
     },
     "execution_count": 173,
     "metadata": {},
     "output_type": "execute_result"
    }
   ],
   "source": [
    "df['column5'] = [1,2,3,4,5]\n",
    "df"
   ]
  },
  {
   "cell_type": "code",
   "execution_count": 187,
   "id": "bc8cffed-6388-47ca-9076-56c7972137ba",
   "metadata": {},
   "outputs": [
    {
     "data": {
      "text/html": [
       "<div>\n",
       "<style scoped>\n",
       "    .dataframe tbody tr th:only-of-type {\n",
       "        vertical-align: middle;\n",
       "    }\n",
       "\n",
       "    .dataframe tbody tr th {\n",
       "        vertical-align: top;\n",
       "    }\n",
       "\n",
       "    .dataframe thead th {\n",
       "        text-align: right;\n",
       "    }\n",
       "</style>\n",
       "<table border=\"1\" class=\"dataframe\">\n",
       "  <thead>\n",
       "    <tr style=\"text-align: right;\">\n",
       "      <th></th>\n",
       "      <th>column1</th>\n",
       "      <th>column2</th>\n",
       "      <th>column3</th>\n",
       "    </tr>\n",
       "  </thead>\n",
       "  <tbody>\n",
       "    <tr>\n",
       "      <th>A</th>\n",
       "      <td>-0.002188</td>\n",
       "      <td>0.002427</td>\n",
       "      <td>1.050507</td>\n",
       "    </tr>\n",
       "    <tr>\n",
       "      <th>B</th>\n",
       "      <td>-1.346984</td>\n",
       "      <td>2.315161</td>\n",
       "      <td>-2.048583</td>\n",
       "    </tr>\n",
       "    <tr>\n",
       "      <th>C</th>\n",
       "      <td>0.346159</td>\n",
       "      <td>0.157376</td>\n",
       "      <td>-0.191799</td>\n",
       "    </tr>\n",
       "    <tr>\n",
       "      <th>D</th>\n",
       "      <td>-0.895702</td>\n",
       "      <td>-1.208149</td>\n",
       "      <td>0.465323</td>\n",
       "    </tr>\n",
       "    <tr>\n",
       "      <th>E</th>\n",
       "      <td>-0.017013</td>\n",
       "      <td>0.773513</td>\n",
       "      <td>1.312875</td>\n",
       "    </tr>\n",
       "  </tbody>\n",
       "</table>\n",
       "</div>"
      ],
      "text/plain": [
       "    column1   column2   column3\n",
       "A -0.002188  0.002427  1.050507\n",
       "B -1.346984  2.315161 -2.048583\n",
       "C  0.346159  0.157376 -0.191799\n",
       "D -0.895702 -1.208149  0.465323\n",
       "E -0.017013  0.773513  1.312875"
      ]
     },
     "execution_count": 187,
     "metadata": {},
     "output_type": "execute_result"
    }
   ],
   "source": [
    "df.drop('column3', axis=1) #new object, doesnt drop from actual df\n",
    "df"
   ]
  },
  {
   "cell_type": "code",
   "execution_count": 195,
   "id": "ad4ccfb4-23a5-495b-9fc8-d79109d90159",
   "metadata": {},
   "outputs": [
    {
     "data": {
      "text/html": [
       "<div>\n",
       "<style scoped>\n",
       "    .dataframe tbody tr th:only-of-type {\n",
       "        vertical-align: middle;\n",
       "    }\n",
       "\n",
       "    .dataframe tbody tr th {\n",
       "        vertical-align: top;\n",
       "    }\n",
       "\n",
       "    .dataframe thead th {\n",
       "        text-align: right;\n",
       "    }\n",
       "</style>\n",
       "<table border=\"1\" class=\"dataframe\">\n",
       "  <thead>\n",
       "    <tr style=\"text-align: right;\">\n",
       "      <th></th>\n",
       "      <th>column1</th>\n",
       "    </tr>\n",
       "  </thead>\n",
       "  <tbody>\n",
       "    <tr>\n",
       "      <th>A</th>\n",
       "      <td>-0.002188</td>\n",
       "    </tr>\n",
       "    <tr>\n",
       "      <th>B</th>\n",
       "      <td>-1.346984</td>\n",
       "    </tr>\n",
       "    <tr>\n",
       "      <th>C</th>\n",
       "      <td>0.346159</td>\n",
       "    </tr>\n",
       "    <tr>\n",
       "      <th>D</th>\n",
       "      <td>-0.895702</td>\n",
       "    </tr>\n",
       "    <tr>\n",
       "      <th>E</th>\n",
       "      <td>-0.017013</td>\n",
       "    </tr>\n",
       "  </tbody>\n",
       "</table>\n",
       "</div>"
      ],
      "text/plain": [
       "    column1\n",
       "A -0.002188\n",
       "B -1.346984\n",
       "C  0.346159\n",
       "D -0.895702\n",
       "E -0.017013"
      ]
     },
     "execution_count": 195,
     "metadata": {},
     "output_type": "execute_result"
    }
   ],
   "source": [
    "df.drop('column3', axis=1, inplace = True)\n",
    "df\n",
    "#or\n",
    "df = df.drop('column2', axis=1)\n",
    "df\n"
   ]
  },
  {
   "cell_type": "code",
   "execution_count": 197,
   "id": "a3dcb6d9-b619-4094-a613-b0167eb682e8",
   "metadata": {},
   "outputs": [
    {
     "data": {
      "text/html": [
       "<div>\n",
       "<style scoped>\n",
       "    .dataframe tbody tr th:only-of-type {\n",
       "        vertical-align: middle;\n",
       "    }\n",
       "\n",
       "    .dataframe tbody tr th {\n",
       "        vertical-align: top;\n",
       "    }\n",
       "\n",
       "    .dataframe thead th {\n",
       "        text-align: right;\n",
       "    }\n",
       "</style>\n",
       "<table border=\"1\" class=\"dataframe\">\n",
       "  <thead>\n",
       "    <tr style=\"text-align: right;\">\n",
       "      <th></th>\n",
       "      <th>column1</th>\n",
       "      <th>column2</th>\n",
       "      <th>column3</th>\n",
       "      <th>column4</th>\n",
       "    </tr>\n",
       "  </thead>\n",
       "  <tbody>\n",
       "    <tr>\n",
       "      <th>A</th>\n",
       "      <td>-2.284981</td>\n",
       "      <td>-0.158008</td>\n",
       "      <td>0.612613</td>\n",
       "      <td>0.091211</td>\n",
       "    </tr>\n",
       "    <tr>\n",
       "      <th>B</th>\n",
       "      <td>-1.978895</td>\n",
       "      <td>0.591204</td>\n",
       "      <td>-1.250868</td>\n",
       "      <td>0.564523</td>\n",
       "    </tr>\n",
       "    <tr>\n",
       "      <th>C</th>\n",
       "      <td>-1.027207</td>\n",
       "      <td>0.671376</td>\n",
       "      <td>0.821426</td>\n",
       "      <td>0.980173</td>\n",
       "    </tr>\n",
       "    <tr>\n",
       "      <th>D</th>\n",
       "      <td>-0.349814</td>\n",
       "      <td>-0.650317</td>\n",
       "      <td>-1.218443</td>\n",
       "      <td>0.278591</td>\n",
       "    </tr>\n",
       "    <tr>\n",
       "      <th>E</th>\n",
       "      <td>0.643234</td>\n",
       "      <td>-0.824824</td>\n",
       "      <td>-0.911002</td>\n",
       "      <td>-0.747342</td>\n",
       "    </tr>\n",
       "  </tbody>\n",
       "</table>\n",
       "</div>"
      ],
      "text/plain": [
       "    column1   column2   column3   column4\n",
       "A -2.284981 -0.158008  0.612613  0.091211\n",
       "B -1.978895  0.591204 -1.250868  0.564523\n",
       "C -1.027207  0.671376  0.821426  0.980173\n",
       "D -0.349814 -0.650317 -1.218443  0.278591\n",
       "E  0.643234 -0.824824 -0.911002 -0.747342"
      ]
     },
     "execution_count": 197,
     "metadata": {},
     "output_type": "execute_result"
    }
   ],
   "source": [
    "df = pd.DataFrame(data = np.random.randn(5,4), index = ['A', 'B', 'C','D','E'], columns = ['column1', 'column2', 'column3','column4'] )\n",
    "df"
   ]
  },
  {
   "cell_type": "code",
   "execution_count": 208,
   "id": "85503461-d736-46d3-ad80-ddde930a401e",
   "metadata": {},
   "outputs": [
    {
     "data": {
      "text/html": [
       "<div>\n",
       "<style scoped>\n",
       "    .dataframe tbody tr th:only-of-type {\n",
       "        vertical-align: middle;\n",
       "    }\n",
       "\n",
       "    .dataframe tbody tr th {\n",
       "        vertical-align: top;\n",
       "    }\n",
       "\n",
       "    .dataframe thead th {\n",
       "        text-align: right;\n",
       "    }\n",
       "</style>\n",
       "<table border=\"1\" class=\"dataframe\">\n",
       "  <thead>\n",
       "    <tr style=\"text-align: right;\">\n",
       "      <th></th>\n",
       "      <th>column1</th>\n",
       "      <th>column2</th>\n",
       "      <th>column3</th>\n",
       "      <th>column4</th>\n",
       "    </tr>\n",
       "  </thead>\n",
       "  <tbody>\n",
       "    <tr>\n",
       "      <th>A</th>\n",
       "      <td>-2.284981</td>\n",
       "      <td>-0.158008</td>\n",
       "      <td>0.612613</td>\n",
       "      <td>0.091211</td>\n",
       "    </tr>\n",
       "    <tr>\n",
       "      <th>B</th>\n",
       "      <td>-1.978895</td>\n",
       "      <td>0.591204</td>\n",
       "      <td>-1.250868</td>\n",
       "      <td>0.564523</td>\n",
       "    </tr>\n",
       "    <tr>\n",
       "      <th>C</th>\n",
       "      <td>-1.027207</td>\n",
       "      <td>0.671376</td>\n",
       "      <td>0.821426</td>\n",
       "      <td>0.980173</td>\n",
       "    </tr>\n",
       "    <tr>\n",
       "      <th>D</th>\n",
       "      <td>-0.349814</td>\n",
       "      <td>-0.650317</td>\n",
       "      <td>-1.218443</td>\n",
       "      <td>0.278591</td>\n",
       "    </tr>\n",
       "    <tr>\n",
       "      <th>E</th>\n",
       "      <td>0.643234</td>\n",
       "      <td>-0.824824</td>\n",
       "      <td>-0.911002</td>\n",
       "      <td>-0.747342</td>\n",
       "    </tr>\n",
       "  </tbody>\n",
       "</table>\n",
       "</div>"
      ],
      "text/plain": [
       "    column1   column2   column3   column4\n",
       "A -2.284981 -0.158008  0.612613  0.091211\n",
       "B -1.978895  0.591204 -1.250868  0.564523\n",
       "C -1.027207  0.671376  0.821426  0.980173\n",
       "D -0.349814 -0.650317 -1.218443  0.278591\n",
       "E  0.643234 -0.824824 -0.911002 -0.747342"
      ]
     },
     "execution_count": 208,
     "metadata": {},
     "output_type": "execute_result"
    }
   ],
   "source": [
    "df.loc['A'] #selects rows\n",
    "df.iloc[0]\n",
    "df"
   ]
  },
  {
   "cell_type": "code",
   "execution_count": 218,
   "id": "d60b54b3-8225-42e1-bdab-b7f6a55e11ca",
   "metadata": {},
   "outputs": [
    {
     "data": {
      "text/plain": [
       "-2.284981433634867"
      ]
     },
     "execution_count": 218,
     "metadata": {},
     "output_type": "execute_result"
    }
   ],
   "source": [
    "df.loc['A', 'column1']"
   ]
  },
  {
   "cell_type": "code",
   "execution_count": 224,
   "id": "245920ee-67cb-4040-bfab-5785c07cc404",
   "metadata": {},
   "outputs": [
    {
     "data": {
      "text/html": [
       "<div>\n",
       "<style scoped>\n",
       "    .dataframe tbody tr th:only-of-type {\n",
       "        vertical-align: middle;\n",
       "    }\n",
       "\n",
       "    .dataframe tbody tr th {\n",
       "        vertical-align: top;\n",
       "    }\n",
       "\n",
       "    .dataframe thead th {\n",
       "        text-align: right;\n",
       "    }\n",
       "</style>\n",
       "<table border=\"1\" class=\"dataframe\">\n",
       "  <thead>\n",
       "    <tr style=\"text-align: right;\">\n",
       "      <th></th>\n",
       "      <th>column2</th>\n",
       "      <th>column3</th>\n",
       "    </tr>\n",
       "  </thead>\n",
       "  <tbody>\n",
       "    <tr>\n",
       "      <th>B</th>\n",
       "      <td>0.591204</td>\n",
       "      <td>-1.250868</td>\n",
       "    </tr>\n",
       "    <tr>\n",
       "      <th>C</th>\n",
       "      <td>0.671376</td>\n",
       "      <td>0.821426</td>\n",
       "    </tr>\n",
       "  </tbody>\n",
       "</table>\n",
       "</div>"
      ],
      "text/plain": [
       "    column2   column3\n",
       "B  0.591204 -1.250868\n",
       "C  0.671376  0.821426"
      ]
     },
     "execution_count": 224,
     "metadata": {},
     "output_type": "execute_result"
    }
   ],
   "source": [
    "df.loc[['B','C'],['column2',  'column3']] #you can use iloc with indices too"
   ]
  },
  {
   "cell_type": "code",
   "execution_count": 237,
   "id": "7a9bd007-e60b-4672-8bc3-57ceb372b466",
   "metadata": {},
   "outputs": [
    {
     "data": {
      "text/html": [
       "<div>\n",
       "<style scoped>\n",
       "    .dataframe tbody tr th:only-of-type {\n",
       "        vertical-align: middle;\n",
       "    }\n",
       "\n",
       "    .dataframe tbody tr th {\n",
       "        vertical-align: top;\n",
       "    }\n",
       "\n",
       "    .dataframe thead th {\n",
       "        text-align: right;\n",
       "    }\n",
       "</style>\n",
       "<table border=\"1\" class=\"dataframe\">\n",
       "  <thead>\n",
       "    <tr style=\"text-align: right;\">\n",
       "      <th></th>\n",
       "      <th>column1</th>\n",
       "      <th>column2</th>\n",
       "      <th>column3</th>\n",
       "      <th>column4</th>\n",
       "    </tr>\n",
       "  </thead>\n",
       "  <tbody>\n",
       "    <tr>\n",
       "      <th>A</th>\n",
       "      <td>-2.284981</td>\n",
       "      <td>-0.158008</td>\n",
       "      <td>0.612613</td>\n",
       "      <td>0.091211</td>\n",
       "    </tr>\n",
       "    <tr>\n",
       "      <th>D</th>\n",
       "      <td>-0.349814</td>\n",
       "      <td>-0.650317</td>\n",
       "      <td>-1.218443</td>\n",
       "      <td>0.278591</td>\n",
       "    </tr>\n",
       "  </tbody>\n",
       "</table>\n",
       "</div>"
      ],
      "text/plain": [
       "    column1   column2   column3   column4\n",
       "A -2.284981 -0.158008  0.612613  0.091211\n",
       "D -0.349814 -0.650317 -1.218443  0.278591"
      ]
     },
     "execution_count": 237,
     "metadata": {},
     "output_type": "execute_result"
    }
   ],
   "source": [
    "df[(df['column1']<0) &( df['column2']<0)] #conditional indexing\n",
    "#logical operations in python are 'and' and 'or', in pandas its '&' and '|'"
   ]
  },
  {
   "cell_type": "code",
   "execution_count": 239,
   "id": "4650e1ad-2b51-461e-83fc-315a4cc022de",
   "metadata": {},
   "outputs": [
    {
     "data": {
      "text/html": [
       "<div>\n",
       "<style scoped>\n",
       "    .dataframe tbody tr th:only-of-type {\n",
       "        vertical-align: middle;\n",
       "    }\n",
       "\n",
       "    .dataframe tbody tr th {\n",
       "        vertical-align: top;\n",
       "    }\n",
       "\n",
       "    .dataframe thead th {\n",
       "        text-align: right;\n",
       "    }\n",
       "</style>\n",
       "<table border=\"1\" class=\"dataframe\">\n",
       "  <thead>\n",
       "    <tr style=\"text-align: right;\">\n",
       "      <th></th>\n",
       "      <th>index</th>\n",
       "      <th>column1</th>\n",
       "      <th>column2</th>\n",
       "      <th>column3</th>\n",
       "      <th>column4</th>\n",
       "    </tr>\n",
       "  </thead>\n",
       "  <tbody>\n",
       "    <tr>\n",
       "      <th>0</th>\n",
       "      <td>A</td>\n",
       "      <td>-2.284981</td>\n",
       "      <td>-0.158008</td>\n",
       "      <td>0.612613</td>\n",
       "      <td>0.091211</td>\n",
       "    </tr>\n",
       "    <tr>\n",
       "      <th>1</th>\n",
       "      <td>B</td>\n",
       "      <td>-1.978895</td>\n",
       "      <td>0.591204</td>\n",
       "      <td>-1.250868</td>\n",
       "      <td>0.564523</td>\n",
       "    </tr>\n",
       "    <tr>\n",
       "      <th>2</th>\n",
       "      <td>C</td>\n",
       "      <td>-1.027207</td>\n",
       "      <td>0.671376</td>\n",
       "      <td>0.821426</td>\n",
       "      <td>0.980173</td>\n",
       "    </tr>\n",
       "    <tr>\n",
       "      <th>3</th>\n",
       "      <td>D</td>\n",
       "      <td>-0.349814</td>\n",
       "      <td>-0.650317</td>\n",
       "      <td>-1.218443</td>\n",
       "      <td>0.278591</td>\n",
       "    </tr>\n",
       "    <tr>\n",
       "      <th>4</th>\n",
       "      <td>E</td>\n",
       "      <td>0.643234</td>\n",
       "      <td>-0.824824</td>\n",
       "      <td>-0.911002</td>\n",
       "      <td>-0.747342</td>\n",
       "    </tr>\n",
       "  </tbody>\n",
       "</table>\n",
       "</div>"
      ],
      "text/plain": [
       "  index   column1   column2   column3   column4\n",
       "0     A -2.284981 -0.158008  0.612613  0.091211\n",
       "1     B -1.978895  0.591204 -1.250868  0.564523\n",
       "2     C -1.027207  0.671376  0.821426  0.980173\n",
       "3     D -0.349814 -0.650317 -1.218443  0.278591\n",
       "4     E  0.643234 -0.824824 -0.911002 -0.747342"
      ]
     },
     "execution_count": 239,
     "metadata": {},
     "output_type": "execute_result"
    }
   ],
   "source": [
    "df.reset_index() # does a copy, doesnt change actual df, use inplace = True if u want to change it"
   ]
  },
  {
   "cell_type": "code",
   "execution_count": null,
   "id": "a1b12a70-24d9-4991-b3c2-711f1917b43a",
   "metadata": {},
   "outputs": [],
   "source": []
  }
 ],
 "metadata": {
  "kernelspec": {
   "display_name": "imageclassification",
   "language": "python",
   "name": "imageclassification"
  },
  "language_info": {
   "codemirror_mode": {
    "name": "ipython",
    "version": 3
   },
   "file_extension": ".py",
   "mimetype": "text/x-python",
   "name": "python",
   "nbconvert_exporter": "python",
   "pygments_lexer": "ipython3",
   "version": "3.11.4"
  }
 },
 "nbformat": 4,
 "nbformat_minor": 5
}
